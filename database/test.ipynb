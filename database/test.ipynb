{
 "cells": [
  {
   "cell_type": "code",
   "execution_count": 2,
   "metadata": {},
   "outputs": [
    {
     "name": "stdout",
     "output_type": "stream",
     "text": [
      "Looking in indexes: https://pypi.tuna.tsinghua.edu.cn/simple\n",
      "Requirement already satisfied: rapidocr_onnxruntime in /opt/conda/envs/llm/lib/python3.10/site-packages (1.3.15)\n",
      "Requirement already satisfied: pyclipper>=1.2.0 in /opt/conda/envs/llm/lib/python3.10/site-packages (from rapidocr_onnxruntime) (1.3.0.post5)\n",
      "Requirement already satisfied: onnxruntime>=1.7.0 in /opt/conda/envs/llm/lib/python3.10/site-packages (from rapidocr_onnxruntime) (1.16.2)\n",
      "Requirement already satisfied: opencv-python>=4.5.1.48 in /opt/conda/envs/llm/lib/python3.10/site-packages (from rapidocr_onnxruntime) (4.9.0.80)\n",
      "Requirement already satisfied: numpy>=1.19.5 in /opt/conda/envs/llm/lib/python3.10/site-packages (from rapidocr_onnxruntime) (1.26.2)\n",
      "Requirement already satisfied: six>=1.15.0 in /home/codespace/.local/lib/python3.10/site-packages (from rapidocr_onnxruntime) (1.16.0)\n",
      "Requirement already satisfied: Shapely>=1.7.1 in /opt/conda/envs/llm/lib/python3.10/site-packages (from rapidocr_onnxruntime) (2.0.3)\n",
      "Requirement already satisfied: PyYAML in /home/codespace/.local/lib/python3.10/site-packages (from rapidocr_onnxruntime) (6.0.1)\n",
      "Requirement already satisfied: Pillow in /opt/conda/envs/llm/lib/python3.10/site-packages (from rapidocr_onnxruntime) (9.5.0)\n",
      "Requirement already satisfied: coloredlogs in /opt/conda/envs/llm/lib/python3.10/site-packages (from onnxruntime>=1.7.0->rapidocr_onnxruntime) (15.0.1)\n",
      "Requirement already satisfied: flatbuffers in /opt/conda/envs/llm/lib/python3.10/site-packages (from onnxruntime>=1.7.0->rapidocr_onnxruntime) (23.5.26)\n",
      "Requirement already satisfied: packaging in /opt/conda/envs/llm/lib/python3.10/site-packages (from onnxruntime>=1.7.0->rapidocr_onnxruntime) (23.1)\n",
      "Requirement already satisfied: protobuf in /opt/conda/envs/llm/lib/python3.10/site-packages (from onnxruntime>=1.7.0->rapidocr_onnxruntime) (4.25.0)\n",
      "Requirement already satisfied: sympy in /home/codespace/.local/lib/python3.10/site-packages (from onnxruntime>=1.7.0->rapidocr_onnxruntime) (1.12)\n",
      "Requirement already satisfied: humanfriendly>=9.1 in /opt/conda/envs/llm/lib/python3.10/site-packages (from coloredlogs->onnxruntime>=1.7.0->rapidocr_onnxruntime) (10.0)\n",
      "Requirement already satisfied: mpmath>=0.19 in /home/codespace/.local/lib/python3.10/site-packages (from sympy->onnxruntime>=1.7.0->rapidocr_onnxruntime) (1.3.0)\n",
      "Note: you may need to restart the kernel to use updated packages.\n",
      "Looking in indexes: https://pypi.tuna.tsinghua.edu.cn/simple\n",
      "Requirement already satisfied: unstructured[all-docs] in /opt/conda/envs/llm/lib/python3.10/site-packages (0.9.0)\n",
      "Requirement already satisfied: chardet in /opt/conda/envs/llm/lib/python3.10/site-packages (from unstructured[all-docs]) (5.2.0)\n",
      "Requirement already satisfied: filetype in /opt/conda/envs/llm/lib/python3.10/site-packages (from unstructured[all-docs]) (1.2.0)\n",
      "Requirement already satisfied: python-magic in /opt/conda/envs/llm/lib/python3.10/site-packages (from unstructured[all-docs]) (0.4.27)\n",
      "Requirement already satisfied: lxml in /opt/conda/envs/llm/lib/python3.10/site-packages (from unstructured[all-docs]) (4.9.3)\n",
      "Requirement already satisfied: nltk in /opt/conda/envs/llm/lib/python3.10/site-packages (from unstructured[all-docs]) (3.8.1)\n",
      "Requirement already satisfied: tabulate in /opt/conda/envs/llm/lib/python3.10/site-packages (from unstructured[all-docs]) (0.9.0)\n",
      "Requirement already satisfied: requests in /home/codespace/.local/lib/python3.10/site-packages (from unstructured[all-docs]) (2.31.0)\n",
      "Requirement already satisfied: pypandoc in /opt/conda/envs/llm/lib/python3.10/site-packages (from unstructured[all-docs]) (1.13)\n",
      "Requirement already satisfied: python-pptx in /opt/conda/envs/llm/lib/python3.10/site-packages (from unstructured[all-docs]) (0.6.23)\n",
      "Requirement already satisfied: python-docx in /opt/conda/envs/llm/lib/python3.10/site-packages (from unstructured[all-docs]) (1.1.0)\n",
      "Requirement already satisfied: msg-parser in /opt/conda/envs/llm/lib/python3.10/site-packages (from unstructured[all-docs]) (1.2.0)\n",
      "Requirement already satisfied: unstructured-inference==0.5.7 in /opt/conda/envs/llm/lib/python3.10/site-packages (from unstructured[all-docs]) (0.5.7)\n",
      "Requirement already satisfied: pdf2image in /opt/conda/envs/llm/lib/python3.10/site-packages (from unstructured[all-docs]) (1.17.0)\n",
      "Requirement already satisfied: xlrd in /opt/conda/envs/llm/lib/python3.10/site-packages (from unstructured[all-docs]) (2.0.1)\n",
      "Requirement already satisfied: Pillow<10 in /opt/conda/envs/llm/lib/python3.10/site-packages (from unstructured[all-docs]) (9.5.0)\n",
      "Requirement already satisfied: pdfminer.six in /opt/conda/envs/llm/lib/python3.10/site-packages (from unstructured[all-docs]) (20231228)\n",
      "Requirement already satisfied: openpyxl in /opt/conda/envs/llm/lib/python3.10/site-packages (from unstructured[all-docs]) (3.1.2)\n",
      "Requirement already satisfied: markdown in /opt/conda/envs/llm/lib/python3.10/site-packages (from unstructured[all-docs]) (3.4.3)\n",
      "Requirement already satisfied: pandas in /opt/conda/envs/llm/lib/python3.10/site-packages (from unstructured[all-docs]) (2.1.3)\n",
      "Requirement already satisfied: layoutparser[layoutmodels,tesseract] in /opt/conda/envs/llm/lib/python3.10/site-packages (from unstructured-inference==0.5.7->unstructured[all-docs]) (0.3.4)\n",
      "Requirement already satisfied: python-multipart in /opt/conda/envs/llm/lib/python3.10/site-packages (from unstructured-inference==0.5.7->unstructured[all-docs]) (0.0.6)\n",
      "Requirement already satisfied: huggingface-hub in /opt/conda/envs/llm/lib/python3.10/site-packages (from unstructured-inference==0.5.7->unstructured[all-docs]) (0.21.4)\n",
      "Requirement already satisfied: opencv-python!=4.7.0.68 in /opt/conda/envs/llm/lib/python3.10/site-packages (from unstructured-inference==0.5.7->unstructured[all-docs]) (4.9.0.80)\n",
      "Requirement already satisfied: onnxruntime in /opt/conda/envs/llm/lib/python3.10/site-packages (from unstructured-inference==0.5.7->unstructured[all-docs]) (1.16.2)\n",
      "Requirement already satisfied: transformers>=4.25.1 in /opt/conda/envs/llm/lib/python3.10/site-packages (from unstructured-inference==0.5.7->unstructured[all-docs]) (4.39.1)\n",
      "Requirement already satisfied: olefile>=0.46 in /opt/conda/envs/llm/lib/python3.10/site-packages (from msg-parser->unstructured[all-docs]) (0.47)\n",
      "Requirement already satisfied: click in /opt/conda/envs/llm/lib/python3.10/site-packages (from nltk->unstructured[all-docs]) (8.1.7)\n",
      "Requirement already satisfied: joblib in /home/codespace/.local/lib/python3.10/site-packages (from nltk->unstructured[all-docs]) (1.3.2)\n",
      "Requirement already satisfied: regex>=2021.8.3 in /opt/conda/envs/llm/lib/python3.10/site-packages (from nltk->unstructured[all-docs]) (2023.5.5)\n",
      "Requirement already satisfied: tqdm in /opt/conda/envs/llm/lib/python3.10/site-packages (from nltk->unstructured[all-docs]) (4.66.1)\n",
      "Requirement already satisfied: et-xmlfile in /opt/conda/envs/llm/lib/python3.10/site-packages (from openpyxl->unstructured[all-docs]) (1.1.0)\n",
      "Requirement already satisfied: numpy<2,>=1.22.4 in /opt/conda/envs/llm/lib/python3.10/site-packages (from pandas->unstructured[all-docs]) (1.26.2)\n",
      "Requirement already satisfied: python-dateutil>=2.8.2 in /opt/conda/envs/llm/lib/python3.10/site-packages (from pandas->unstructured[all-docs]) (2.8.2)\n",
      "Requirement already satisfied: pytz>=2020.1 in /opt/conda/envs/llm/lib/python3.10/site-packages (from pandas->unstructured[all-docs]) (2023.3.post1)\n",
      "Requirement already satisfied: tzdata>=2022.1 in /opt/conda/envs/llm/lib/python3.10/site-packages (from pandas->unstructured[all-docs]) (2023.3)\n",
      "Requirement already satisfied: charset-normalizer>=2.0.0 in /home/codespace/.local/lib/python3.10/site-packages (from pdfminer.six->unstructured[all-docs]) (3.3.2)\n",
      "Requirement already satisfied: cryptography>=36.0.0 in /opt/conda/envs/llm/lib/python3.10/site-packages (from pdfminer.six->unstructured[all-docs]) (42.0.5)\n",
      "Requirement already satisfied: typing-extensions in /opt/conda/envs/llm/lib/python3.10/site-packages (from python-docx->unstructured[all-docs]) (4.10.0)\n",
      "Requirement already satisfied: XlsxWriter>=0.5.7 in /opt/conda/envs/llm/lib/python3.10/site-packages (from python-pptx->unstructured[all-docs]) (3.2.0)\n",
      "Requirement already satisfied: idna<4,>=2.5 in /opt/conda/envs/llm/lib/python3.10/site-packages (from requests->unstructured[all-docs]) (3.4)\n",
      "Requirement already satisfied: urllib3<3,>=1.21.1 in /opt/conda/envs/llm/lib/python3.10/site-packages (from requests->unstructured[all-docs]) (2.0.7)\n",
      "Requirement already satisfied: certifi>=2017.4.17 in /opt/conda/envs/llm/lib/python3.10/site-packages (from requests->unstructured[all-docs]) (2023.7.22)\n",
      "Requirement already satisfied: cffi>=1.12 in /home/codespace/.local/lib/python3.10/site-packages (from cryptography>=36.0.0->pdfminer.six->unstructured[all-docs]) (1.16.0)\n",
      "Requirement already satisfied: six>=1.5 in /home/codespace/.local/lib/python3.10/site-packages (from python-dateutil>=2.8.2->pandas->unstructured[all-docs]) (1.16.0)\n",
      "Requirement already satisfied: filelock in /home/codespace/.local/lib/python3.10/site-packages (from transformers>=4.25.1->unstructured-inference==0.5.7->unstructured[all-docs]) (3.13.1)\n",
      "Requirement already satisfied: packaging>=20.0 in /opt/conda/envs/llm/lib/python3.10/site-packages (from transformers>=4.25.1->unstructured-inference==0.5.7->unstructured[all-docs]) (23.1)\n",
      "Requirement already satisfied: pyyaml>=5.1 in /home/codespace/.local/lib/python3.10/site-packages (from transformers>=4.25.1->unstructured-inference==0.5.7->unstructured[all-docs]) (6.0.1)\n",
      "Requirement already satisfied: tokenizers<0.19,>=0.14 in /opt/conda/envs/llm/lib/python3.10/site-packages (from transformers>=4.25.1->unstructured-inference==0.5.7->unstructured[all-docs]) (0.15.2)\n",
      "Requirement already satisfied: safetensors>=0.4.1 in /opt/conda/envs/llm/lib/python3.10/site-packages (from transformers>=4.25.1->unstructured-inference==0.5.7->unstructured[all-docs]) (0.4.2)\n",
      "Requirement already satisfied: fsspec>=2023.5.0 in /opt/conda/envs/llm/lib/python3.10/site-packages (from huggingface-hub->unstructured-inference==0.5.7->unstructured[all-docs]) (2023.10.0)\n",
      "Requirement already satisfied: scipy in /opt/conda/envs/llm/lib/python3.10/site-packages (from layoutparser[layoutmodels,tesseract]->unstructured-inference==0.5.7->unstructured[all-docs]) (1.11.2)\n",
      "Requirement already satisfied: iopath in /opt/conda/envs/llm/lib/python3.10/site-packages (from layoutparser[layoutmodels,tesseract]->unstructured-inference==0.5.7->unstructured[all-docs]) (0.1.10)\n",
      "Requirement already satisfied: pdfplumber in /opt/conda/envs/llm/lib/python3.10/site-packages (from layoutparser[layoutmodels,tesseract]->unstructured-inference==0.5.7->unstructured[all-docs]) (0.11.0)\n",
      "Requirement already satisfied: pytesseract in /opt/conda/envs/llm/lib/python3.10/site-packages (from layoutparser[layoutmodels,tesseract]->unstructured-inference==0.5.7->unstructured[all-docs]) (0.3.10)\n",
      "Requirement already satisfied: torch in /home/codespace/.local/lib/python3.10/site-packages (from layoutparser[layoutmodels,tesseract]->unstructured-inference==0.5.7->unstructured[all-docs]) (2.2.1)\n",
      "Requirement already satisfied: torchvision in /opt/conda/envs/llm/lib/python3.10/site-packages (from layoutparser[layoutmodels,tesseract]->unstructured-inference==0.5.7->unstructured[all-docs]) (0.17.1)\n",
      "Requirement already satisfied: effdet in /opt/conda/envs/llm/lib/python3.10/site-packages (from layoutparser[layoutmodels,tesseract]->unstructured-inference==0.5.7->unstructured[all-docs]) (0.4.1)\n",
      "Requirement already satisfied: coloredlogs in /opt/conda/envs/llm/lib/python3.10/site-packages (from onnxruntime->unstructured-inference==0.5.7->unstructured[all-docs]) (15.0.1)\n",
      "Requirement already satisfied: flatbuffers in /opt/conda/envs/llm/lib/python3.10/site-packages (from onnxruntime->unstructured-inference==0.5.7->unstructured[all-docs]) (23.5.26)\n",
      "Requirement already satisfied: protobuf in /opt/conda/envs/llm/lib/python3.10/site-packages (from onnxruntime->unstructured-inference==0.5.7->unstructured[all-docs]) (4.25.0)\n",
      "Requirement already satisfied: sympy in /home/codespace/.local/lib/python3.10/site-packages (from onnxruntime->unstructured-inference==0.5.7->unstructured[all-docs]) (1.12)\n",
      "Requirement already satisfied: pycparser in /home/codespace/.local/lib/python3.10/site-packages (from cffi>=1.12->cryptography>=36.0.0->pdfminer.six->unstructured[all-docs]) (2.21)\n",
      "Requirement already satisfied: humanfriendly>=9.1 in /opt/conda/envs/llm/lib/python3.10/site-packages (from coloredlogs->onnxruntime->unstructured-inference==0.5.7->unstructured[all-docs]) (10.0)\n",
      "Requirement already satisfied: timm>=0.9.2 in /opt/conda/envs/llm/lib/python3.10/site-packages (from effdet->layoutparser[layoutmodels,tesseract]->unstructured-inference==0.5.7->unstructured[all-docs]) (0.9.16)\n",
      "Requirement already satisfied: pycocotools>=2.0.2 in /opt/conda/envs/llm/lib/python3.10/site-packages (from effdet->layoutparser[layoutmodels,tesseract]->unstructured-inference==0.5.7->unstructured[all-docs]) (2.0.7)\n",
      "Requirement already satisfied: omegaconf>=2.0 in /opt/conda/envs/llm/lib/python3.10/site-packages (from effdet->layoutparser[layoutmodels,tesseract]->unstructured-inference==0.5.7->unstructured[all-docs]) (2.3.0)\n",
      "Requirement already satisfied: networkx in /home/codespace/.local/lib/python3.10/site-packages (from torch->layoutparser[layoutmodels,tesseract]->unstructured-inference==0.5.7->unstructured[all-docs]) (3.2.1)\n",
      "Requirement already satisfied: jinja2 in /opt/conda/envs/llm/lib/python3.10/site-packages (from torch->layoutparser[layoutmodels,tesseract]->unstructured-inference==0.5.7->unstructured[all-docs]) (3.1.2)\n",
      "Requirement already satisfied: nvidia-cuda-nvrtc-cu12==12.1.105 in /home/codespace/.local/lib/python3.10/site-packages (from torch->layoutparser[layoutmodels,tesseract]->unstructured-inference==0.5.7->unstructured[all-docs]) (12.1.105)\n",
      "Requirement already satisfied: nvidia-cuda-runtime-cu12==12.1.105 in /home/codespace/.local/lib/python3.10/site-packages (from torch->layoutparser[layoutmodels,tesseract]->unstructured-inference==0.5.7->unstructured[all-docs]) (12.1.105)\n",
      "Requirement already satisfied: nvidia-cuda-cupti-cu12==12.1.105 in /home/codespace/.local/lib/python3.10/site-packages (from torch->layoutparser[layoutmodels,tesseract]->unstructured-inference==0.5.7->unstructured[all-docs]) (12.1.105)\n",
      "Requirement already satisfied: nvidia-cudnn-cu12==8.9.2.26 in /home/codespace/.local/lib/python3.10/site-packages (from torch->layoutparser[layoutmodels,tesseract]->unstructured-inference==0.5.7->unstructured[all-docs]) (8.9.2.26)\n",
      "Requirement already satisfied: nvidia-cublas-cu12==12.1.3.1 in /home/codespace/.local/lib/python3.10/site-packages (from torch->layoutparser[layoutmodels,tesseract]->unstructured-inference==0.5.7->unstructured[all-docs]) (12.1.3.1)\n",
      "Requirement already satisfied: nvidia-cufft-cu12==11.0.2.54 in /home/codespace/.local/lib/python3.10/site-packages (from torch->layoutparser[layoutmodels,tesseract]->unstructured-inference==0.5.7->unstructured[all-docs]) (11.0.2.54)\n",
      "Requirement already satisfied: nvidia-curand-cu12==10.3.2.106 in /home/codespace/.local/lib/python3.10/site-packages (from torch->layoutparser[layoutmodels,tesseract]->unstructured-inference==0.5.7->unstructured[all-docs]) (10.3.2.106)\n",
      "Requirement already satisfied: nvidia-cusolver-cu12==11.4.5.107 in /home/codespace/.local/lib/python3.10/site-packages (from torch->layoutparser[layoutmodels,tesseract]->unstructured-inference==0.5.7->unstructured[all-docs]) (11.4.5.107)\n",
      "Requirement already satisfied: nvidia-cusparse-cu12==12.1.0.106 in /home/codespace/.local/lib/python3.10/site-packages (from torch->layoutparser[layoutmodels,tesseract]->unstructured-inference==0.5.7->unstructured[all-docs]) (12.1.0.106)\n",
      "Requirement already satisfied: nvidia-nccl-cu12==2.19.3 in /home/codespace/.local/lib/python3.10/site-packages (from torch->layoutparser[layoutmodels,tesseract]->unstructured-inference==0.5.7->unstructured[all-docs]) (2.19.3)\n",
      "Requirement already satisfied: nvidia-nvtx-cu12==12.1.105 in /home/codespace/.local/lib/python3.10/site-packages (from torch->layoutparser[layoutmodels,tesseract]->unstructured-inference==0.5.7->unstructured[all-docs]) (12.1.105)\n",
      "Requirement already satisfied: triton==2.2.0 in /home/codespace/.local/lib/python3.10/site-packages (from torch->layoutparser[layoutmodels,tesseract]->unstructured-inference==0.5.7->unstructured[all-docs]) (2.2.0)\n",
      "Requirement already satisfied: nvidia-nvjitlink-cu12 in /home/codespace/.local/lib/python3.10/site-packages (from nvidia-cusolver-cu12==11.4.5.107->torch->layoutparser[layoutmodels,tesseract]->unstructured-inference==0.5.7->unstructured[all-docs]) (12.3.101)\n",
      "Requirement already satisfied: portalocker in /opt/conda/envs/llm/lib/python3.10/site-packages (from iopath->layoutparser[layoutmodels,tesseract]->unstructured-inference==0.5.7->unstructured[all-docs]) (2.8.2)\n",
      "Requirement already satisfied: pypdfium2>=4.18.0 in /opt/conda/envs/llm/lib/python3.10/site-packages (from pdfplumber->layoutparser[layoutmodels,tesseract]->unstructured-inference==0.5.7->unstructured[all-docs]) (4.28.0)\n",
      "Requirement already satisfied: mpmath>=0.19 in /home/codespace/.local/lib/python3.10/site-packages (from sympy->onnxruntime->unstructured-inference==0.5.7->unstructured[all-docs]) (1.3.0)\n",
      "Requirement already satisfied: antlr4-python3-runtime==4.9.* in /opt/conda/envs/llm/lib/python3.10/site-packages (from omegaconf>=2.0->effdet->layoutparser[layoutmodels,tesseract]->unstructured-inference==0.5.7->unstructured[all-docs]) (4.9.3)\n",
      "Requirement already satisfied: matplotlib>=2.1.0 in /opt/conda/envs/llm/lib/python3.10/site-packages (from pycocotools>=2.0.2->effdet->layoutparser[layoutmodels,tesseract]->unstructured-inference==0.5.7->unstructured[all-docs]) (3.8.1)\n",
      "Requirement already satisfied: MarkupSafe>=2.0 in /opt/conda/envs/llm/lib/python3.10/site-packages (from jinja2->torch->layoutparser[layoutmodels,tesseract]->unstructured-inference==0.5.7->unstructured[all-docs]) (2.1.3)\n",
      "Requirement already satisfied: contourpy>=1.0.1 in /home/codespace/.local/lib/python3.10/site-packages (from matplotlib>=2.1.0->pycocotools>=2.0.2->effdet->layoutparser[layoutmodels,tesseract]->unstructured-inference==0.5.7->unstructured[all-docs]) (1.2.0)\n",
      "Requirement already satisfied: cycler>=0.10 in /home/codespace/.local/lib/python3.10/site-packages (from matplotlib>=2.1.0->pycocotools>=2.0.2->effdet->layoutparser[layoutmodels,tesseract]->unstructured-inference==0.5.7->unstructured[all-docs]) (0.12.1)\n",
      "Requirement already satisfied: fonttools>=4.22.0 in /opt/conda/envs/llm/lib/python3.10/site-packages (from matplotlib>=2.1.0->pycocotools>=2.0.2->effdet->layoutparser[layoutmodels,tesseract]->unstructured-inference==0.5.7->unstructured[all-docs]) (4.44.0)\n",
      "Requirement already satisfied: kiwisolver>=1.3.1 in /home/codespace/.local/lib/python3.10/site-packages (from matplotlib>=2.1.0->pycocotools>=2.0.2->effdet->layoutparser[layoutmodels,tesseract]->unstructured-inference==0.5.7->unstructured[all-docs]) (1.4.5)\n",
      "Requirement already satisfied: pyparsing>=2.3.1 in /home/codespace/.local/lib/python3.10/site-packages (from matplotlib>=2.1.0->pycocotools>=2.0.2->effdet->layoutparser[layoutmodels,tesseract]->unstructured-inference==0.5.7->unstructured[all-docs]) (3.1.1)\n",
      "Note: you may need to restart the kernel to use updated packages.\n",
      "Looking in indexes: https://pypi.tuna.tsinghua.edu.cn/simple\n",
      "Requirement already satisfied: pyMuPDF in /opt/conda/envs/llm/lib/python3.10/site-packages (1.23.6)\n",
      "Requirement already satisfied: PyMuPDFb==1.23.6 in /opt/conda/envs/llm/lib/python3.10/site-packages (from pyMuPDF) (1.23.6)\n",
      "Note: you may need to restart the kernel to use updated packages.\n"
     ]
    }
   ],
   "source": [
    "# 安装必要的库\n",
    "%pip install rapidocr_onnxruntime -i https://pypi.tuna.tsinghua.edu.cn/simple\n",
    "%pip install \"unstructured[all-docs]\" -i https://pypi.tuna.tsinghua.edu.cn/simple\n",
    "%pip install pyMuPDF -i https://pypi.tuna.tsinghua.edu.cn/simple"
   ]
  },
  {
   "cell_type": "code",
   "execution_count": 1,
   "metadata": {},
   "outputs": [],
   "source": [
    "from langchain.document_loaders import PyMuPDFLoader\n",
    "\n",
    "# 创建一个 PyMuPDFLoader Class 实例，输入为待加载的 pdf 文档路径\n",
    "loader = PyMuPDFLoader(\"/workspaces/LLMEasyProject/database/knowledge_db/临床流行病学.pdf\")\n",
    "\n",
    "# 调用 PyMuPDFLoader Class 的函数 load 对 pdf 文件进行加载\n",
    "pages = loader.load()"
   ]
  },
  {
   "cell_type": "code",
   "execution_count": 6,
   "metadata": {},
   "outputs": [
    {
     "name": "stdout",
     "output_type": "stream",
     "text": [
      "载入后的变量类型为：<class 'list'>， 该 PDF 一共包含 353 页\n"
     ]
    }
   ],
   "source": [
    "print(f\"载入后的变量类型为：{type(pages)}，\",  f\"该 PDF 一共包含 {len(pages)} 页\")"
   ]
  },
  {
   "cell_type": "code",
   "execution_count": 7,
   "metadata": {},
   "outputs": [
    {
     "name": "stdout",
     "output_type": "stream",
     "text": [
      "每一个元素的类型：<class 'langchain.schema.document.Document'>.\n",
      "------\n",
      "该文档的描述性数据：{'source': '/workspaces/LLMEasyProject/database/knowledge_db/临床流行病学.pdf', 'file_path': '/workspaces/LLMEasyProject/database/knowledge_db/临床流行病学.pdf', 'page': 50, 'total_pages': 353, 'format': 'PDF 1.5', 'title': '临床流行病学  八年制  配增值', 'author': '詹思延主编', 'subject': '', 'keywords': '', 'creator': 'Pdg2Pic', 'producer': 'FreePic2Pdf_Lib - v3.02', 'creationDate': \"D:20160422180607+08'00'\", 'modDate': \"D:20160422180607+08'00'\", 'trapped': ''}\n",
      "------\n",
      "查看该文档的内容:\n",
      "\n"
     ]
    }
   ],
   "source": [
    "page = pages[50]\n",
    "print(f\"每一个元素的类型：{type(page)}.\", \n",
    "    f\"该文档的描述性数据：{page.metadata}\", \n",
    "    f\"查看该文档的内容:\\n{page.page_content[0:100]}\", \n",
    "    sep=\"\\n------\\n\")\n"
   ]
  }
 ],
 "metadata": {
  "kernelspec": {
   "display_name": "llm",
   "language": "python",
   "name": "python3"
  },
  "language_info": {
   "codemirror_mode": {
    "name": "ipython",
    "version": 3
   },
   "file_extension": ".py",
   "mimetype": "text/x-python",
   "name": "python",
   "nbconvert_exporter": "python",
   "pygments_lexer": "ipython3",
   "version": "3.10.14"
  }
 },
 "nbformat": 4,
 "nbformat_minor": 2
}
